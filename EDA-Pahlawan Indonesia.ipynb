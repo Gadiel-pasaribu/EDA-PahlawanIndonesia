{
 "cells": [
  {
   "cell_type": "code",
   "execution_count": 1,
   "metadata": {},
   "outputs": [],
   "source": [
    "import pandas as pd\n",
    "import matplotlib as plt\n",
    "import seaborn as sns"
   ]
  },
  {
   "cell_type": "code",
   "execution_count": 2,
   "metadata": {},
   "outputs": [
    {
     "data": {
      "text/html": [
       "<div>\n",
       "<style scoped>\n",
       "    .dataframe tbody tr th:only-of-type {\n",
       "        vertical-align: middle;\n",
       "    }\n",
       "\n",
       "    .dataframe tbody tr th {\n",
       "        vertical-align: top;\n",
       "    }\n",
       "\n",
       "    .dataframe thead th {\n",
       "        text-align: right;\n",
       "    }\n",
       "</style>\n",
       "<table border=\"1\" class=\"dataframe\">\n",
       "  <thead>\n",
       "    <tr style=\"text-align: right;\">\n",
       "      <th></th>\n",
       "      <th>Nama</th>\n",
       "      <th>Lahir</th>\n",
       "      <th>Wafat</th>\n",
       "      <th>Keterangan</th>\n",
       "      <th>Penetapan</th>\n",
       "      <th>Daerah</th>\n",
       "    </tr>\n",
       "  </thead>\n",
       "  <tbody>\n",
       "    <tr>\n",
       "      <th>0</th>\n",
       "      <td>Abdul Muis</td>\n",
       "      <td>1883</td>\n",
       "      <td>1959</td>\n",
       "      <td>Politisi, kemudian penulis</td>\n",
       "      <td>1959</td>\n",
       "      <td>Sumatera Barat</td>\n",
       "    </tr>\n",
       "    <tr>\n",
       "      <th>1</th>\n",
       "      <td>Ki Hajar Dewantara</td>\n",
       "      <td>1889</td>\n",
       "      <td>1959</td>\n",
       "      <td>Pengajar dan menteri pemerintahan, mendirikan ...</td>\n",
       "      <td>1959</td>\n",
       "      <td>DIY</td>\n",
       "    </tr>\n",
       "    <tr>\n",
       "      <th>2</th>\n",
       "      <td>Suryopranoto</td>\n",
       "      <td>1871</td>\n",
       "      <td>1959</td>\n",
       "      <td>Pengajar dan tokoh hak-hak buruh, saudara Ki H...</td>\n",
       "      <td>1959</td>\n",
       "      <td>Jakarta</td>\n",
       "    </tr>\n",
       "    <tr>\n",
       "      <th>3</th>\n",
       "      <td>Mohammad Husni Thamrin</td>\n",
       "      <td>1894</td>\n",
       "      <td>1941</td>\n",
       "      <td>Politisi dan aktivis kemerdekaan</td>\n",
       "      <td>1960</td>\n",
       "      <td>Jakarta</td>\n",
       "    </tr>\n",
       "    <tr>\n",
       "      <th>4</th>\n",
       "      <td>Agus Salim</td>\n",
       "      <td>1884</td>\n",
       "      <td>1954</td>\n",
       "      <td>Aktivis kemerdekaan, politisi, pemimpin Islam ...</td>\n",
       "      <td>1961</td>\n",
       "      <td>Sumatera Barat</td>\n",
       "    </tr>\n",
       "  </tbody>\n",
       "</table>\n",
       "</div>"
      ],
      "text/plain": [
       "                     Nama  Lahir  Wafat  \\\n",
       "0              Abdul Muis   1883   1959   \n",
       "1      Ki Hajar Dewantara   1889   1959   \n",
       "2            Suryopranoto   1871   1959   \n",
       "3  Mohammad Husni Thamrin   1894   1941   \n",
       "4              Agus Salim   1884   1954   \n",
       "\n",
       "                                          Keterangan  Penetapan  \\\n",
       "0                         Politisi, kemudian penulis       1959   \n",
       "1  Pengajar dan menteri pemerintahan, mendirikan ...       1959   \n",
       "2  Pengajar dan tokoh hak-hak buruh, saudara Ki H...       1959   \n",
       "3                   Politisi dan aktivis kemerdekaan       1960   \n",
       "4  Aktivis kemerdekaan, politisi, pemimpin Islam ...       1961   \n",
       "\n",
       "           Daerah  \n",
       "0  Sumatera Barat  \n",
       "1             DIY  \n",
       "2         Jakarta  \n",
       "3         Jakarta  \n",
       "4  Sumatera Barat  "
      ]
     },
     "execution_count": 2,
     "metadata": {},
     "output_type": "execute_result"
    }
   ],
   "source": [
    "pa = pd.read_csv('Data Pahlawan - Sheet1.csv')\n",
    "pa.head()"
   ]
  },
  {
   "cell_type": "code",
   "execution_count": 3,
   "metadata": {},
   "outputs": [
    {
     "name": "stdout",
     "output_type": "stream",
     "text": [
      "<class 'pandas.core.frame.DataFrame'>\n",
      "RangeIndex: 185 entries, 0 to 184\n",
      "Data columns (total 6 columns):\n",
      " #   Column      Non-Null Count  Dtype \n",
      "---  ------      --------------  ----- \n",
      " 0   Nama        185 non-null    object\n",
      " 1   Lahir       185 non-null    int64 \n",
      " 2   Wafat       185 non-null    int64 \n",
      " 3   Keterangan  181 non-null    object\n",
      " 4   Penetapan   185 non-null    int64 \n",
      " 5   Daerah      185 non-null    object\n",
      "dtypes: int64(3), object(3)\n",
      "memory usage: 8.8+ KB\n"
     ]
    }
   ],
   "source": [
    "pa.info()"
   ]
  },
  {
   "cell_type": "code",
   "execution_count": 4,
   "metadata": {},
   "outputs": [
    {
     "data": {
      "text/html": [
       "<div>\n",
       "<style scoped>\n",
       "    .dataframe tbody tr th:only-of-type {\n",
       "        vertical-align: middle;\n",
       "    }\n",
       "\n",
       "    .dataframe tbody tr th {\n",
       "        vertical-align: top;\n",
       "    }\n",
       "\n",
       "    .dataframe thead th {\n",
       "        text-align: right;\n",
       "    }\n",
       "</style>\n",
       "<table border=\"1\" class=\"dataframe\">\n",
       "  <thead>\n",
       "    <tr style=\"text-align: right;\">\n",
       "      <th></th>\n",
       "      <th>Lahir</th>\n",
       "      <th>Wafat</th>\n",
       "      <th>Penetapan</th>\n",
       "    </tr>\n",
       "  </thead>\n",
       "  <tbody>\n",
       "    <tr>\n",
       "      <th>count</th>\n",
       "      <td>185.000000</td>\n",
       "      <td>185.000000</td>\n",
       "      <td>185.000000</td>\n",
       "    </tr>\n",
       "    <tr>\n",
       "      <th>mean</th>\n",
       "      <td>1875.140541</td>\n",
       "      <td>1935.378378</td>\n",
       "      <td>1988.075676</td>\n",
       "    </tr>\n",
       "    <tr>\n",
       "      <th>std</th>\n",
       "      <td>71.757758</td>\n",
       "      <td>72.716525</td>\n",
       "      <td>20.966192</td>\n",
       "    </tr>\n",
       "    <tr>\n",
       "      <th>min</th>\n",
       "      <td>1550.000000</td>\n",
       "      <td>1604.000000</td>\n",
       "      <td>1959.000000</td>\n",
       "    </tr>\n",
       "    <tr>\n",
       "      <th>25%</th>\n",
       "      <td>1879.000000</td>\n",
       "      <td>1939.000000</td>\n",
       "      <td>1966.000000</td>\n",
       "    </tr>\n",
       "    <tr>\n",
       "      <th>50%</th>\n",
       "      <td>1901.000000</td>\n",
       "      <td>1959.000000</td>\n",
       "      <td>1993.000000</td>\n",
       "    </tr>\n",
       "    <tr>\n",
       "      <th>75%</th>\n",
       "      <td>1915.000000</td>\n",
       "      <td>1975.000000</td>\n",
       "      <td>2007.000000</td>\n",
       "    </tr>\n",
       "    <tr>\n",
       "      <th>max</th>\n",
       "      <td>1947.000000</td>\n",
       "      <td>2012.000000</td>\n",
       "      <td>2019.000000</td>\n",
       "    </tr>\n",
       "  </tbody>\n",
       "</table>\n",
       "</div>"
      ],
      "text/plain": [
       "             Lahir        Wafat    Penetapan\n",
       "count   185.000000   185.000000   185.000000\n",
       "mean   1875.140541  1935.378378  1988.075676\n",
       "std      71.757758    72.716525    20.966192\n",
       "min    1550.000000  1604.000000  1959.000000\n",
       "25%    1879.000000  1939.000000  1966.000000\n",
       "50%    1901.000000  1959.000000  1993.000000\n",
       "75%    1915.000000  1975.000000  2007.000000\n",
       "max    1947.000000  2012.000000  2019.000000"
      ]
     },
     "execution_count": 4,
     "metadata": {},
     "output_type": "execute_result"
    }
   ],
   "source": [
    "pa.describe()"
   ]
  },
  {
   "cell_type": "markdown",
   "metadata": {},
   "source": [
    "# Umur"
   ]
  },
  {
   "cell_type": "code",
   "execution_count": 5,
   "metadata": {},
   "outputs": [
    {
     "data": {
      "text/html": [
       "<div>\n",
       "<style scoped>\n",
       "    .dataframe tbody tr th:only-of-type {\n",
       "        vertical-align: middle;\n",
       "    }\n",
       "\n",
       "    .dataframe tbody tr th {\n",
       "        vertical-align: top;\n",
       "    }\n",
       "\n",
       "    .dataframe thead th {\n",
       "        text-align: right;\n",
       "    }\n",
       "</style>\n",
       "<table border=\"1\" class=\"dataframe\">\n",
       "  <thead>\n",
       "    <tr style=\"text-align: right;\">\n",
       "      <th></th>\n",
       "      <th>Nama</th>\n",
       "      <th>Lahir</th>\n",
       "      <th>Wafat</th>\n",
       "      <th>Keterangan</th>\n",
       "      <th>Penetapan</th>\n",
       "      <th>Daerah</th>\n",
       "      <th>Umur</th>\n",
       "    </tr>\n",
       "  </thead>\n",
       "  <tbody>\n",
       "    <tr>\n",
       "      <th>0</th>\n",
       "      <td>Abdul Muis</td>\n",
       "      <td>1883</td>\n",
       "      <td>1959</td>\n",
       "      <td>Politisi, kemudian penulis</td>\n",
       "      <td>1959</td>\n",
       "      <td>Sumatera Barat</td>\n",
       "      <td>76</td>\n",
       "    </tr>\n",
       "    <tr>\n",
       "      <th>1</th>\n",
       "      <td>Ki Hajar Dewantara</td>\n",
       "      <td>1889</td>\n",
       "      <td>1959</td>\n",
       "      <td>Pengajar dan menteri pemerintahan, mendirikan ...</td>\n",
       "      <td>1959</td>\n",
       "      <td>DIY</td>\n",
       "      <td>70</td>\n",
       "    </tr>\n",
       "    <tr>\n",
       "      <th>2</th>\n",
       "      <td>Suryopranoto</td>\n",
       "      <td>1871</td>\n",
       "      <td>1959</td>\n",
       "      <td>Pengajar dan tokoh hak-hak buruh, saudara Ki H...</td>\n",
       "      <td>1959</td>\n",
       "      <td>Jakarta</td>\n",
       "      <td>88</td>\n",
       "    </tr>\n",
       "    <tr>\n",
       "      <th>3</th>\n",
       "      <td>Mohammad Husni Thamrin</td>\n",
       "      <td>1894</td>\n",
       "      <td>1941</td>\n",
       "      <td>Politisi dan aktivis kemerdekaan</td>\n",
       "      <td>1960</td>\n",
       "      <td>Jakarta</td>\n",
       "      <td>47</td>\n",
       "    </tr>\n",
       "    <tr>\n",
       "      <th>4</th>\n",
       "      <td>Agus Salim</td>\n",
       "      <td>1884</td>\n",
       "      <td>1954</td>\n",
       "      <td>Aktivis kemerdekaan, politisi, pemimpin Islam ...</td>\n",
       "      <td>1961</td>\n",
       "      <td>Sumatera Barat</td>\n",
       "      <td>70</td>\n",
       "    </tr>\n",
       "  </tbody>\n",
       "</table>\n",
       "</div>"
      ],
      "text/plain": [
       "                     Nama  Lahir  Wafat  \\\n",
       "0              Abdul Muis   1883   1959   \n",
       "1      Ki Hajar Dewantara   1889   1959   \n",
       "2            Suryopranoto   1871   1959   \n",
       "3  Mohammad Husni Thamrin   1894   1941   \n",
       "4              Agus Salim   1884   1954   \n",
       "\n",
       "                                          Keterangan  Penetapan  \\\n",
       "0                         Politisi, kemudian penulis       1959   \n",
       "1  Pengajar dan menteri pemerintahan, mendirikan ...       1959   \n",
       "2  Pengajar dan tokoh hak-hak buruh, saudara Ki H...       1959   \n",
       "3                   Politisi dan aktivis kemerdekaan       1960   \n",
       "4  Aktivis kemerdekaan, politisi, pemimpin Islam ...       1961   \n",
       "\n",
       "           Daerah  Umur  \n",
       "0  Sumatera Barat    76  \n",
       "1             DIY    70  \n",
       "2         Jakarta    88  \n",
       "3         Jakarta    47  \n",
       "4  Sumatera Barat    70  "
      ]
     },
     "execution_count": 5,
     "metadata": {},
     "output_type": "execute_result"
    }
   ],
   "source": [
    "pa['Umur'] = pa['Wafat'] - pa['Lahir']\n",
    "pa.head()"
   ]
  },
  {
   "cell_type": "code",
   "execution_count": 6,
   "metadata": {},
   "outputs": [
    {
     "data": {
      "text/plain": [
       "<matplotlib.axes._subplots.AxesSubplot at 0x2056fc9cac8>"
      ]
     },
     "execution_count": 6,
     "metadata": {},
     "output_type": "execute_result"
    },
    {
     "data": {
      "image/png": "[encoded data removed]",
      "text/plain": [
       "<Figure size 432x288 with 1 Axes>"
      ]
     },
     "metadata": {
      "needs_background": "light"
     },
     "output_type": "display_data"
    }
   ],
   "source": [
    "pa['Umur'].hist(bins=5)"
   ]
  },
  {
   "cell_type": "markdown",
   "metadata": {},
   "source": [
    "# Masa Hidup"
   ]
  },
  {
   "cell_type": "code",
   "execution_count": 14,
   "metadata": {},
   "outputs": [
    {
     "data": {
      "text/plain": [
       "60.23783783783784"
      ]
     },
     "execution_count": 14,
     "metadata": {},
     "output_type": "execute_result"
    }
   ],
   "source": [
    "# Rata-rata umur Pahlawan\n",
    "pa['Umur'].mean()"
   ]
  },
  {
   "cell_type": "markdown",
   "metadata": {},
   "source": [
    "untuk menentukan pahlawan hidup di masa apa, perlu ditentukan dengan batasan 50% umurnya (umur rata2 60) di tahun berapa?\n",
    "\n",
    "masa produktif (umur * 50%) + lahir = masa hidup (tahun) = masa Hidup (presiden)"
   ]
  },
  {
   "cell_type": "code",
   "execution_count": 15,
   "metadata": {},
   "outputs": [],
   "source": [
    "pa['Masa Hidup(Tahun)'] = pa['Umur']*0.5 + pa['Lahir']"
   ]
  },
  {
   "cell_type": "code",
   "execution_count": 16,
   "metadata": {},
   "outputs": [],
   "source": [
    "pa['Masa Hidup(Tahun)'] = pa['Masa Hidup(Tahun)'].round()"
   ]
  },
  {
   "cell_type": "code",
   "execution_count": 17,
   "metadata": {},
   "outputs": [
    {
     "data": {
      "text/plain": [
       "1577.0"
      ]
     },
     "execution_count": 17,
     "metadata": {},
     "output_type": "execute_result"
    }
   ],
   "source": [
    "pa['Masa Hidup(Tahun)'].min()"
   ]
  },
  {
   "cell_type": "code",
   "execution_count": 18,
   "metadata": {},
   "outputs": [
    {
     "data": {
      "text/plain": [
       "104"
      ]
     },
     "execution_count": 18,
     "metadata": {},
     "output_type": "execute_result"
    }
   ],
   "source": [
    "pa['Umur'].max()"
   ]
  },
  {
   "cell_type": "code",
   "execution_count": 19,
   "metadata": {},
   "outputs": [
    {
     "data": {
      "text/plain": [
       "array([ 76,  70,  88,  47,  66,  51,  71,  59,  78,  58,  50,  63,  55,\n",
       "        52,  54,  67,  65,  75,  57,  39,  72,  25,  40,  41,  42,  34,\n",
       "        43,  37,  26,  45,  53,  21,  31,  48,  18,  33,  74,  35,  92,\n",
       "        24,  38,  29,  20,  46,  85,  22,  49,  60,  98,  73,  69, 104,\n",
       "        61,  32,  82,  30,  79,  84,  44,  90,  91,  23,  80,  77,  89,\n",
       "        86,  81,  83,  64,  93,  99], dtype=int64)"
      ]
     },
     "execution_count": 19,
     "metadata": {},
     "output_type": "execute_result"
    }
   ],
   "source": [
    "pa['Umur'].unique()"
   ]
  },
  {
   "cell_type": "code",
   "execution_count": 20,
   "metadata": {},
   "outputs": [
    {
     "data": {
      "text/html": [
       "<div>\n",
       "<style scoped>\n",
       "    .dataframe tbody tr th:only-of-type {\n",
       "        vertical-align: middle;\n",
       "    }\n",
       "\n",
       "    .dataframe tbody tr th {\n",
       "        vertical-align: top;\n",
       "    }\n",
       "\n",
       "    .dataframe thead th {\n",
       "        text-align: right;\n",
       "    }\n",
       "</style>\n",
       "<table border=\"1\" class=\"dataframe\">\n",
       "  <thead>\n",
       "    <tr style=\"text-align: right;\">\n",
       "      <th></th>\n",
       "      <th>Nama</th>\n",
       "      <th>Lahir</th>\n",
       "      <th>Wafat</th>\n",
       "      <th>Keterangan</th>\n",
       "      <th>Penetapan</th>\n",
       "      <th>Daerah</th>\n",
       "      <th>Umur</th>\n",
       "      <th>Presiden</th>\n",
       "      <th>Masa Hidup(Tahun)</th>\n",
       "      <th>Masa Hidup</th>\n",
       "    </tr>\n",
       "  </thead>\n",
       "  <tbody>\n",
       "    <tr>\n",
       "      <th>0</th>\n",
       "      <td>Abdul Muis</td>\n",
       "      <td>1883</td>\n",
       "      <td>1959</td>\n",
       "      <td>Politisi, kemudian penulis</td>\n",
       "      <td>1959</td>\n",
       "      <td>Sumatera Barat</td>\n",
       "      <td>76</td>\n",
       "      <td>Soekarno</td>\n",
       "      <td>1921.0</td>\n",
       "      <td>Kolonialisasi Belanda</td>\n",
       "    </tr>\n",
       "    <tr>\n",
       "      <th>1</th>\n",
       "      <td>Ki Hajar Dewantara</td>\n",
       "      <td>1889</td>\n",
       "      <td>1959</td>\n",
       "      <td>Pengajar dan menteri pemerintahan, mendirikan ...</td>\n",
       "      <td>1959</td>\n",
       "      <td>DIY</td>\n",
       "      <td>70</td>\n",
       "      <td>Soekarno</td>\n",
       "      <td>1924.0</td>\n",
       "      <td>Kolonialisasi Belanda</td>\n",
       "    </tr>\n",
       "    <tr>\n",
       "      <th>2</th>\n",
       "      <td>Suryopranoto</td>\n",
       "      <td>1871</td>\n",
       "      <td>1959</td>\n",
       "      <td>Pengajar dan tokoh hak-hak buruh, saudara Ki H...</td>\n",
       "      <td>1959</td>\n",
       "      <td>Jakarta</td>\n",
       "      <td>88</td>\n",
       "      <td>Soekarno</td>\n",
       "      <td>1915.0</td>\n",
       "      <td>Kolonialisasi Belanda</td>\n",
       "    </tr>\n",
       "    <tr>\n",
       "      <th>3</th>\n",
       "      <td>Mohammad Husni Thamrin</td>\n",
       "      <td>1894</td>\n",
       "      <td>1941</td>\n",
       "      <td>Politisi dan aktivis kemerdekaan</td>\n",
       "      <td>1960</td>\n",
       "      <td>Jakarta</td>\n",
       "      <td>47</td>\n",
       "      <td>Soekarno</td>\n",
       "      <td>1918.0</td>\n",
       "      <td>Kolonialisasi Belanda</td>\n",
       "    </tr>\n",
       "    <tr>\n",
       "      <th>4</th>\n",
       "      <td>Agus Salim</td>\n",
       "      <td>1884</td>\n",
       "      <td>1954</td>\n",
       "      <td>Aktivis kemerdekaan, politisi, pemimpin Islam ...</td>\n",
       "      <td>1961</td>\n",
       "      <td>Sumatera Barat</td>\n",
       "      <td>70</td>\n",
       "      <td>Soekarno</td>\n",
       "      <td>1919.0</td>\n",
       "      <td>Kolonialisasi Belanda</td>\n",
       "    </tr>\n",
       "  </tbody>\n",
       "</table>\n",
       "</div>"
      ],
      "text/plain": [
       "                     Nama  Lahir  Wafat  \\\n",
       "0              Abdul Muis   1883   1959   \n",
       "1      Ki Hajar Dewantara   1889   1959   \n",
       "2            Suryopranoto   1871   1959   \n",
       "3  Mohammad Husni Thamrin   1894   1941   \n",
       "4              Agus Salim   1884   1954   \n",
       "\n",
       "                                          Keterangan  Penetapan  \\\n",
       "0                         Politisi, kemudian penulis       1959   \n",
       "1  Pengajar dan menteri pemerintahan, mendirikan ...       1959   \n",
       "2  Pengajar dan tokoh hak-hak buruh, saudara Ki H...       1959   \n",
       "3                   Politisi dan aktivis kemerdekaan       1960   \n",
       "4  Aktivis kemerdekaan, politisi, pemimpin Islam ...       1961   \n",
       "\n",
       "           Daerah  Umur  Presiden  Masa Hidup(Tahun)             Masa Hidup  \n",
       "0  Sumatera Barat    76  Soekarno             1921.0  Kolonialisasi Belanda  \n",
       "1             DIY    70  Soekarno             1924.0  Kolonialisasi Belanda  \n",
       "2         Jakarta    88  Soekarno             1915.0  Kolonialisasi Belanda  \n",
       "3         Jakarta    47  Soekarno             1918.0  Kolonialisasi Belanda  \n",
       "4  Sumatera Barat    70  Soekarno             1919.0  Kolonialisasi Belanda  "
      ]
     },
     "execution_count": 20,
     "metadata": {},
     "output_type": "execute_result"
    }
   ],
   "source": [
    "def MasaHidup(pa):\n",
    "  if pa['Masa Hidup(Tahun)'] < 1602:\n",
    "    return 'Kolonialisasi Portugis'\n",
    "  elif 1602 <= pa['Masa Hidup(Tahun)'] < 1800:\n",
    "    return 'Kolonialisasi VOC'\n",
    "  elif 1800 <= pa['Masa Hidup(Tahun)'] < 1942:\n",
    "    return 'Kolonialisasi Belanda'\n",
    "  elif 1942 <= pa['Masa Hidup(Tahun)'] < 1945:\n",
    "    return 'Kolonialisasi Jepang'\n",
    "  elif 1945 <= pa['Masa Hidup(Tahun)'] < 1965:\n",
    "    return 'Orde Lama'\n",
    "  elif 1965 <= pa['Masa Hidup(Tahun)'] < 1998:\n",
    "    return 'Orde Baru'\n",
    "  else:\n",
    "    return 'Reformasi'\n",
    "\n",
    "pa['Masa Hidup'] = pa.apply(lambda pa: MasaHidup(pa), axis=1)\n",
    "pa.head()"
   ]
  },
  {
   "cell_type": "code",
   "execution_count": 21,
   "metadata": {},
   "outputs": [
    {
     "data": {
      "text/plain": [
       "array(['Kolonialisasi Belanda', 'Kolonialisasi Jepang', 'Orde Lama',\n",
       "       'Kolonialisasi VOC', 'Orde Baru', 'Kolonialisasi Portugis'],\n",
       "      dtype=object)"
      ]
     },
     "execution_count": 21,
     "metadata": {},
     "output_type": "execute_result"
    }
   ],
   "source": [
    "pa['Masa Hidup'].unique()"
   ]
  },
  {
   "cell_type": "code",
   "execution_count": 22,
   "metadata": {},
   "outputs": [
    {
     "data": {
      "text/plain": [
       "<matplotlib.axes._subplots.AxesSubplot at 0x2056fe18788>"
      ]
     },
     "execution_count": 22,
     "metadata": {},
     "output_type": "execute_result"
    },
    {
     "data": {
      "image/png": "[encoded data removed]",
      "text/plain": [
       "<Figure size 432x288 with 1 Axes>"
      ]
     },
     "metadata": {
      "needs_background": "light"
     },
     "output_type": "display_data"
    }
   ],
   "source": [
    "sns.countplot(y='Masa Hidup',data=pa) #Countplot"
   ]
  },
  {
   "cell_type": "code",
   "execution_count": 23,
   "metadata": {},
   "outputs": [
    {
     "data": {
      "text/plain": [
       "Kolonialisasi Belanda     113\n",
       "Orde Lama                  41\n",
       "Kolonialisasi Jepang       14\n",
       "Kolonialisasi VOC          14\n",
       "Orde Baru                   2\n",
       "Kolonialisasi Portugis      1\n",
       "Name: Masa Hidup, dtype: int64"
      ]
     },
     "execution_count": 23,
     "metadata": {},
     "output_type": "execute_result"
    }
   ],
   "source": [
    "pa['Masa Hidup'].value_counts()"
   ]
  },
  {
   "cell_type": "markdown",
   "metadata": {},
   "source": [
    "# Presiden & Masa Hidup Pahlawan"
   ]
  },
  {
   "cell_type": "code",
   "execution_count": 48,
   "metadata": {},
   "outputs": [
    {
     "data": {
      "text/html": [
       "<div>\n",
       "<style scoped>\n",
       "    .dataframe tbody tr th:only-of-type {\n",
       "        vertical-align: middle;\n",
       "    }\n",
       "\n",
       "    .dataframe tbody tr th {\n",
       "        vertical-align: top;\n",
       "    }\n",
       "\n",
       "    .dataframe thead th {\n",
       "        text-align: right;\n",
       "    }\n",
       "</style>\n",
       "<table border=\"1\" class=\"dataframe\">\n",
       "  <thead>\n",
       "    <tr style=\"text-align: right;\">\n",
       "      <th>Presiden</th>\n",
       "      <th>Gus Dur</th>\n",
       "      <th>Habibie</th>\n",
       "      <th>Jokowi</th>\n",
       "      <th>Megawati</th>\n",
       "      <th>SBY</th>\n",
       "      <th>Soeharto</th>\n",
       "      <th>Soekarno</th>\n",
       "    </tr>\n",
       "    <tr>\n",
       "      <th>Masa Hidup</th>\n",
       "      <th></th>\n",
       "      <th></th>\n",
       "      <th></th>\n",
       "      <th></th>\n",
       "      <th></th>\n",
       "      <th></th>\n",
       "      <th></th>\n",
       "    </tr>\n",
       "  </thead>\n",
       "  <tbody>\n",
       "    <tr>\n",
       "      <th>Kolonialisasi Belanda</th>\n",
       "      <td>1</td>\n",
       "      <td>3</td>\n",
       "      <td>10</td>\n",
       "      <td>7</td>\n",
       "      <td>20</td>\n",
       "      <td>34</td>\n",
       "      <td>38</td>\n",
       "    </tr>\n",
       "    <tr>\n",
       "      <th>Kolonialisasi Jepang</th>\n",
       "      <td>0</td>\n",
       "      <td>0</td>\n",
       "      <td>2</td>\n",
       "      <td>0</td>\n",
       "      <td>3</td>\n",
       "      <td>2</td>\n",
       "      <td>7</td>\n",
       "    </tr>\n",
       "    <tr>\n",
       "      <th>Kolonialisasi Portugis</th>\n",
       "      <td>0</td>\n",
       "      <td>0</td>\n",
       "      <td>1</td>\n",
       "      <td>0</td>\n",
       "      <td>0</td>\n",
       "      <td>0</td>\n",
       "      <td>0</td>\n",
       "    </tr>\n",
       "    <tr>\n",
       "      <th>Kolonialisasi VOC</th>\n",
       "      <td>0</td>\n",
       "      <td>0</td>\n",
       "      <td>2</td>\n",
       "      <td>0</td>\n",
       "      <td>1</td>\n",
       "      <td>11</td>\n",
       "      <td>0</td>\n",
       "    </tr>\n",
       "    <tr>\n",
       "      <th>Orde Baru</th>\n",
       "      <td>0</td>\n",
       "      <td>0</td>\n",
       "      <td>1</td>\n",
       "      <td>0</td>\n",
       "      <td>1</td>\n",
       "      <td>0</td>\n",
       "      <td>0</td>\n",
       "    </tr>\n",
       "    <tr>\n",
       "      <th>Orde Lama</th>\n",
       "      <td>2</td>\n",
       "      <td>0</td>\n",
       "      <td>6</td>\n",
       "      <td>5</td>\n",
       "      <td>14</td>\n",
       "      <td>10</td>\n",
       "      <td>4</td>\n",
       "    </tr>\n",
       "  </tbody>\n",
       "</table>\n",
       "</div>"
      ],
      "text/plain": [
       "Presiden                Gus Dur  Habibie  Jokowi  Megawati  SBY  Soeharto  \\\n",
       "Masa Hidup                                                                  \n",
       "Kolonialisasi Belanda         1        3      10         7   20        34   \n",
       "Kolonialisasi Jepang          0        0       2         0    3         2   \n",
       "Kolonialisasi Portugis        0        0       1         0    0         0   \n",
       "Kolonialisasi VOC             0        0       2         0    1        11   \n",
       "Orde Baru                     0        0       1         0    1         0   \n",
       "Orde Lama                     2        0       6         5   14        10   \n",
       "\n",
       "Presiden                Soekarno  \n",
       "Masa Hidup                        \n",
       "Kolonialisasi Belanda         38  \n",
       "Kolonialisasi Jepang           7  \n",
       "Kolonialisasi Portugis         0  \n",
       "Kolonialisasi VOC              0  \n",
       "Orde Baru                      0  \n",
       "Orde Lama                      4  "
      ]
     },
     "execution_count": 48,
     "metadata": {},
     "output_type": "execute_result"
    }
   ],
   "source": [
    "pd.crosstab(pa['Masa Hidup'], pa['Presiden'])"
   ]
  },
  {
   "cell_type": "markdown",
   "metadata": {},
   "source": [
    "# Penetapan"
   ]
  },
  {
   "cell_type": "code",
   "execution_count": 7,
   "metadata": {},
   "outputs": [],
   "source": [
    "byPenetapan=pa.groupby('Penetapan').count()"
   ]
  },
  {
   "cell_type": "code",
   "execution_count": 8,
   "metadata": {},
   "outputs": [
    {
     "data": {
      "text/html": [
       "<div>\n",
       "<style scoped>\n",
       "    .dataframe tbody tr th:only-of-type {\n",
       "        vertical-align: middle;\n",
       "    }\n",
       "\n",
       "    .dataframe tbody tr th {\n",
       "        vertical-align: top;\n",
       "    }\n",
       "\n",
       "    .dataframe thead th {\n",
       "        text-align: right;\n",
       "    }\n",
       "</style>\n",
       "<table border=\"1\" class=\"dataframe\">\n",
       "  <thead>\n",
       "    <tr style=\"text-align: right;\">\n",
       "      <th></th>\n",
       "      <th>Nama</th>\n",
       "      <th>Lahir</th>\n",
       "      <th>Wafat</th>\n",
       "      <th>Keterangan</th>\n",
       "      <th>Daerah</th>\n",
       "      <th>Umur</th>\n",
       "    </tr>\n",
       "    <tr>\n",
       "      <th>Penetapan</th>\n",
       "      <th></th>\n",
       "      <th></th>\n",
       "      <th></th>\n",
       "      <th></th>\n",
       "      <th></th>\n",
       "      <th></th>\n",
       "    </tr>\n",
       "  </thead>\n",
       "  <tbody>\n",
       "    <tr>\n",
       "      <th>1959</th>\n",
       "      <td>3</td>\n",
       "      <td>3</td>\n",
       "      <td>3</td>\n",
       "      <td>3</td>\n",
       "      <td>3</td>\n",
       "      <td>3</td>\n",
       "    </tr>\n",
       "    <tr>\n",
       "      <th>1960</th>\n",
       "      <td>1</td>\n",
       "      <td>1</td>\n",
       "      <td>1</td>\n",
       "      <td>1</td>\n",
       "      <td>1</td>\n",
       "      <td>1</td>\n",
       "    </tr>\n",
       "    <tr>\n",
       "      <th>1961</th>\n",
       "      <td>8</td>\n",
       "      <td>8</td>\n",
       "      <td>8</td>\n",
       "      <td>8</td>\n",
       "      <td>8</td>\n",
       "      <td>8</td>\n",
       "    </tr>\n",
       "    <tr>\n",
       "      <th>1962</th>\n",
       "      <td>3</td>\n",
       "      <td>3</td>\n",
       "      <td>3</td>\n",
       "      <td>3</td>\n",
       "      <td>3</td>\n",
       "      <td>3</td>\n",
       "    </tr>\n",
       "    <tr>\n",
       "      <th>1963</th>\n",
       "      <td>5</td>\n",
       "      <td>5</td>\n",
       "      <td>5</td>\n",
       "      <td>5</td>\n",
       "      <td>5</td>\n",
       "      <td>5</td>\n",
       "    </tr>\n",
       "  </tbody>\n",
       "</table>\n",
       "</div>"
      ],
      "text/plain": [
       "           Nama  Lahir  Wafat  Keterangan  Daerah  Umur\n",
       "Penetapan                                              \n",
       "1959          3      3      3           3       3     3\n",
       "1960          1      1      1           1       1     1\n",
       "1961          8      8      8           8       8     8\n",
       "1962          3      3      3           3       3     3\n",
       "1963          5      5      5           5       5     5"
      ]
     },
     "execution_count": 8,
     "metadata": {},
     "output_type": "execute_result"
    }
   ],
   "source": [
    "byPenetapan.head()"
   ]
  },
  {
   "cell_type": "code",
   "execution_count": 9,
   "metadata": {},
   "outputs": [
    {
     "data": {
      "text/plain": [
       "<matplotlib.axes._subplots.AxesSubplot at 0x2056fd96488>"
      ]
     },
     "execution_count": 9,
     "metadata": {},
     "output_type": "execute_result"
    },
    {
     "data": {
      "image/png": "[encoded data removed]",
      "text/plain": [
       "<Figure size 432x288 with 1 Axes>"
      ]
     },
     "metadata": {
      "needs_background": "light"
     },
     "output_type": "display_data"
    }
   ],
   "source": [
    "sns.lineplot(data=byPenetapan, x=byPenetapan.index, y='Nama')"
   ]
  },
  {
   "cell_type": "code",
   "execution_count": 43,
   "metadata": {},
   "outputs": [
    {
     "data": {
      "text/plain": [
       "<matplotlib.axes._subplots.AxesSubplot at 0x20570424e08>"
      ]
     },
     "execution_count": 43,
     "metadata": {},
     "output_type": "execute_result"
    },
    {
     "data": {
      "image/png": "[encoded data removed]",
      "text/plain": [
       "<Figure size 432x288 with 1 Axes>"
      ]
     },
     "metadata": {
      "needs_background": "light"
     },
     "output_type": "display_data"
    }
   ],
   "source": [
    "pa['Penetapan'].hist(bins=10)"
   ]
  },
  {
   "cell_type": "code",
   "execution_count": 11,
   "metadata": {},
   "outputs": [
    {
     "data": {
      "text/html": [
       "<div>\n",
       "<style scoped>\n",
       "    .dataframe tbody tr th:only-of-type {\n",
       "        vertical-align: middle;\n",
       "    }\n",
       "\n",
       "    .dataframe tbody tr th {\n",
       "        vertical-align: top;\n",
       "    }\n",
       "\n",
       "    .dataframe thead th {\n",
       "        text-align: right;\n",
       "    }\n",
       "</style>\n",
       "<table border=\"1\" class=\"dataframe\">\n",
       "  <thead>\n",
       "    <tr style=\"text-align: right;\">\n",
       "      <th></th>\n",
       "      <th>Nama</th>\n",
       "      <th>Lahir</th>\n",
       "      <th>Wafat</th>\n",
       "      <th>Keterangan</th>\n",
       "      <th>Penetapan</th>\n",
       "      <th>Daerah</th>\n",
       "      <th>Umur</th>\n",
       "      <th>Presiden</th>\n",
       "    </tr>\n",
       "  </thead>\n",
       "  <tbody>\n",
       "    <tr>\n",
       "      <th>0</th>\n",
       "      <td>Abdul Muis</td>\n",
       "      <td>1883</td>\n",
       "      <td>1959</td>\n",
       "      <td>Politisi, kemudian penulis</td>\n",
       "      <td>1959</td>\n",
       "      <td>Sumatera Barat</td>\n",
       "      <td>76</td>\n",
       "      <td>Soekarno</td>\n",
       "    </tr>\n",
       "    <tr>\n",
       "      <th>1</th>\n",
       "      <td>Ki Hajar Dewantara</td>\n",
       "      <td>1889</td>\n",
       "      <td>1959</td>\n",
       "      <td>Pengajar dan menteri pemerintahan, mendirikan ...</td>\n",
       "      <td>1959</td>\n",
       "      <td>DIY</td>\n",
       "      <td>70</td>\n",
       "      <td>Soekarno</td>\n",
       "    </tr>\n",
       "    <tr>\n",
       "      <th>2</th>\n",
       "      <td>Suryopranoto</td>\n",
       "      <td>1871</td>\n",
       "      <td>1959</td>\n",
       "      <td>Pengajar dan tokoh hak-hak buruh, saudara Ki H...</td>\n",
       "      <td>1959</td>\n",
       "      <td>Jakarta</td>\n",
       "      <td>88</td>\n",
       "      <td>Soekarno</td>\n",
       "    </tr>\n",
       "    <tr>\n",
       "      <th>3</th>\n",
       "      <td>Mohammad Husni Thamrin</td>\n",
       "      <td>1894</td>\n",
       "      <td>1941</td>\n",
       "      <td>Politisi dan aktivis kemerdekaan</td>\n",
       "      <td>1960</td>\n",
       "      <td>Jakarta</td>\n",
       "      <td>47</td>\n",
       "      <td>Soekarno</td>\n",
       "    </tr>\n",
       "    <tr>\n",
       "      <th>4</th>\n",
       "      <td>Agus Salim</td>\n",
       "      <td>1884</td>\n",
       "      <td>1954</td>\n",
       "      <td>Aktivis kemerdekaan, politisi, pemimpin Islam ...</td>\n",
       "      <td>1961</td>\n",
       "      <td>Sumatera Barat</td>\n",
       "      <td>70</td>\n",
       "      <td>Soekarno</td>\n",
       "    </tr>\n",
       "  </tbody>\n",
       "</table>\n",
       "</div>"
      ],
      "text/plain": [
       "                     Nama  Lahir  Wafat  \\\n",
       "0              Abdul Muis   1883   1959   \n",
       "1      Ki Hajar Dewantara   1889   1959   \n",
       "2            Suryopranoto   1871   1959   \n",
       "3  Mohammad Husni Thamrin   1894   1941   \n",
       "4              Agus Salim   1884   1954   \n",
       "\n",
       "                                          Keterangan  Penetapan  \\\n",
       "0                         Politisi, kemudian penulis       1959   \n",
       "1  Pengajar dan menteri pemerintahan, mendirikan ...       1959   \n",
       "2  Pengajar dan tokoh hak-hak buruh, saudara Ki H...       1959   \n",
       "3                   Politisi dan aktivis kemerdekaan       1960   \n",
       "4  Aktivis kemerdekaan, politisi, pemimpin Islam ...       1961   \n",
       "\n",
       "           Daerah  Umur  Presiden  \n",
       "0  Sumatera Barat    76  Soekarno  \n",
       "1             DIY    70  Soekarno  \n",
       "2         Jakarta    88  Soekarno  \n",
       "3         Jakarta    47  Soekarno  \n",
       "4  Sumatera Barat    70  Soekarno  "
      ]
     },
     "execution_count": 11,
     "metadata": {},
     "output_type": "execute_result"
    }
   ],
   "source": [
    "def Presiden(pa):\n",
    "  if pa['Penetapan'] <= 1967:\n",
    "    return 'Soekarno'\n",
    "  elif 1967 < pa['Penetapan'] <= 1998:\n",
    "    return 'Soeharto'\n",
    "  elif 1998 < pa['Penetapan'] <= 1999:\n",
    "    return 'Habibie'\n",
    "  elif 1999 < pa['Penetapan'] <= 2001:\n",
    "    return 'Gus Dur'\n",
    "  elif 2001 < pa['Penetapan'] <= 2004:\n",
    "    return 'Megawati'\n",
    "  elif 2004 < pa['Penetapan'] <= 2014:\n",
    "    return 'SBY'\n",
    "  else:\n",
    "    return 'Jokowi'\n",
    "\n",
    "pa['Presiden'] = pa.apply(lambda pa: Presiden(pa), axis=1)\n",
    "pa.head()"
   ]
  },
  {
   "cell_type": "code",
   "execution_count": 12,
   "metadata": {},
   "outputs": [
    {
     "data": {
      "text/plain": [
       "Soeharto    57\n",
       "Soekarno    49\n",
       "SBY         39\n",
       "Jokowi      22\n",
       "Megawati    12\n",
       "Habibie      3\n",
       "Gus Dur      3\n",
       "Name: Presiden, dtype: int64"
      ]
     },
     "execution_count": 12,
     "metadata": {},
     "output_type": "execute_result"
    }
   ],
   "source": [
    "pa['Presiden'].value_counts()"
   ]
  },
  {
   "cell_type": "code",
   "execution_count": 13,
   "metadata": {},
   "outputs": [
    {
     "data": {
      "text/plain": [
       "<matplotlib.axes._subplots.AxesSubplot at 0x2056fe8afc8>"
      ]
     },
     "execution_count": 13,
     "metadata": {},
     "output_type": "execute_result"
    },
    {
     "data": {
      "image/png": "[encoded data removed]",
      "text/plain": [
       "<Figure size 432x288 with 1 Axes>"
      ]
     },
     "metadata": {
      "needs_background": "light"
     },
     "output_type": "display_data"
    }
   ],
   "source": [
    "sns.countplot(x='Presiden',data=pa) #Countplot"
   ]
  },
  {
   "cell_type": "markdown",
   "metadata": {},
   "source": [
    "# Distribusi Pahlawan Berdasarkan Daerah"
   ]
  },
  {
   "cell_type": "code",
   "execution_count": 24,
   "metadata": {},
   "outputs": [
    {
     "data": {
      "text/html": [
       "<div>\n",
       "<style scoped>\n",
       "    .dataframe tbody tr th:only-of-type {\n",
       "        vertical-align: middle;\n",
       "    }\n",
       "\n",
       "    .dataframe tbody tr th {\n",
       "        vertical-align: top;\n",
       "    }\n",
       "\n",
       "    .dataframe thead th {\n",
       "        text-align: right;\n",
       "    }\n",
       "</style>\n",
       "<table border=\"1\" class=\"dataframe\">\n",
       "  <thead>\n",
       "    <tr style=\"text-align: right;\">\n",
       "      <th></th>\n",
       "      <th>Nama</th>\n",
       "      <th>Lahir</th>\n",
       "      <th>Wafat</th>\n",
       "      <th>Keterangan</th>\n",
       "      <th>Penetapan</th>\n",
       "      <th>Daerah</th>\n",
       "      <th>Umur</th>\n",
       "      <th>Presiden</th>\n",
       "      <th>Masa Hidup(Tahun)</th>\n",
       "      <th>Masa Hidup</th>\n",
       "    </tr>\n",
       "  </thead>\n",
       "  <tbody>\n",
       "    <tr>\n",
       "      <th>0</th>\n",
       "      <td>Abdul Muis</td>\n",
       "      <td>1883</td>\n",
       "      <td>1959</td>\n",
       "      <td>Politisi, kemudian penulis</td>\n",
       "      <td>1959</td>\n",
       "      <td>Sumatera Barat</td>\n",
       "      <td>76</td>\n",
       "      <td>Soekarno</td>\n",
       "      <td>1921.0</td>\n",
       "      <td>Kolonialisasi Belanda</td>\n",
       "    </tr>\n",
       "    <tr>\n",
       "      <th>1</th>\n",
       "      <td>Ki Hajar Dewantara</td>\n",
       "      <td>1889</td>\n",
       "      <td>1959</td>\n",
       "      <td>Pengajar dan menteri pemerintahan, mendirikan ...</td>\n",
       "      <td>1959</td>\n",
       "      <td>DIY</td>\n",
       "      <td>70</td>\n",
       "      <td>Soekarno</td>\n",
       "      <td>1924.0</td>\n",
       "      <td>Kolonialisasi Belanda</td>\n",
       "    </tr>\n",
       "    <tr>\n",
       "      <th>2</th>\n",
       "      <td>Suryopranoto</td>\n",
       "      <td>1871</td>\n",
       "      <td>1959</td>\n",
       "      <td>Pengajar dan tokoh hak-hak buruh, saudara Ki H...</td>\n",
       "      <td>1959</td>\n",
       "      <td>Jakarta</td>\n",
       "      <td>88</td>\n",
       "      <td>Soekarno</td>\n",
       "      <td>1915.0</td>\n",
       "      <td>Kolonialisasi Belanda</td>\n",
       "    </tr>\n",
       "    <tr>\n",
       "      <th>3</th>\n",
       "      <td>Mohammad Husni Thamrin</td>\n",
       "      <td>1894</td>\n",
       "      <td>1941</td>\n",
       "      <td>Politisi dan aktivis kemerdekaan</td>\n",
       "      <td>1960</td>\n",
       "      <td>Jakarta</td>\n",
       "      <td>47</td>\n",
       "      <td>Soekarno</td>\n",
       "      <td>1918.0</td>\n",
       "      <td>Kolonialisasi Belanda</td>\n",
       "    </tr>\n",
       "    <tr>\n",
       "      <th>4</th>\n",
       "      <td>Agus Salim</td>\n",
       "      <td>1884</td>\n",
       "      <td>1954</td>\n",
       "      <td>Aktivis kemerdekaan, politisi, pemimpin Islam ...</td>\n",
       "      <td>1961</td>\n",
       "      <td>Sumatera Barat</td>\n",
       "      <td>70</td>\n",
       "      <td>Soekarno</td>\n",
       "      <td>1919.0</td>\n",
       "      <td>Kolonialisasi Belanda</td>\n",
       "    </tr>\n",
       "  </tbody>\n",
       "</table>\n",
       "</div>"
      ],
      "text/plain": [
       "                     Nama  Lahir  Wafat  \\\n",
       "0              Abdul Muis   1883   1959   \n",
       "1      Ki Hajar Dewantara   1889   1959   \n",
       "2            Suryopranoto   1871   1959   \n",
       "3  Mohammad Husni Thamrin   1894   1941   \n",
       "4              Agus Salim   1884   1954   \n",
       "\n",
       "                                          Keterangan  Penetapan  \\\n",
       "0                         Politisi, kemudian penulis       1959   \n",
       "1  Pengajar dan menteri pemerintahan, mendirikan ...       1959   \n",
       "2  Pengajar dan tokoh hak-hak buruh, saudara Ki H...       1959   \n",
       "3                   Politisi dan aktivis kemerdekaan       1960   \n",
       "4  Aktivis kemerdekaan, politisi, pemimpin Islam ...       1961   \n",
       "\n",
       "           Daerah  Umur  Presiden  Masa Hidup(Tahun)             Masa Hidup  \n",
       "0  Sumatera Barat    76  Soekarno             1921.0  Kolonialisasi Belanda  \n",
       "1             DIY    70  Soekarno             1924.0  Kolonialisasi Belanda  \n",
       "2         Jakarta    88  Soekarno             1915.0  Kolonialisasi Belanda  \n",
       "3         Jakarta    47  Soekarno             1918.0  Kolonialisasi Belanda  \n",
       "4  Sumatera Barat    70  Soekarno             1919.0  Kolonialisasi Belanda  "
      ]
     },
     "execution_count": 24,
     "metadata": {},
     "output_type": "execute_result"
    }
   ],
   "source": [
    "pa.head()"
   ]
  },
  {
   "cell_type": "code",
   "execution_count": 26,
   "metadata": {},
   "outputs": [
    {
     "data": {
      "text/plain": [
       "Jawa Tengah           36\n",
       "Jawa Timur            24\n",
       "Sumatera Barat        15\n",
       "Jawa Barat            12\n",
       "DIY                   12\n",
       "Sulawesi Selatan      11\n",
       "Sumatera Utara        10\n",
       "Aceh                   8\n",
       "Sulawesi Utara         7\n",
       "Bali                   6\n",
       "Riau                   5\n",
       "Kalimantan Selatan     4\n",
       "Papua                  4\n",
       "Maluku                 4\n",
       "NTT                    4\n",
       "Jakarta                4\n",
       "Banten                 3\n",
       "Sumatera Selatan       2\n",
       "Sulawesi Tenggara      2\n",
       "Gorontalo              1\n",
       "Kalimantan Tengah      1\n",
       "Sulawesi utara         1\n",
       "Bengkulu               1\n",
       "Jambi                  1\n",
       "Jawa tengah            1\n",
       "NTB                    1\n",
       "Maluku Utara           1\n",
       "Kalimantan Barat       1\n",
       "Jawa Tmur              1\n",
       "Sulawesi Barat         1\n",
       "Sumatera utara         1\n",
       "Name: Daerah, dtype: int64"
      ]
     },
     "execution_count": 26,
     "metadata": {},
     "output_type": "execute_result"
    }
   ],
   "source": [
    "pa['Daerah'].value_counts()"
   ]
  },
  {
   "cell_type": "code",
   "execution_count": 28,
   "metadata": {},
   "outputs": [
    {
     "data": {
      "text/plain": [
       "<matplotlib.axes._subplots.AxesSubplot at 0x2057026fc48>"
      ]
     },
     "execution_count": 28,
     "metadata": {},
     "output_type": "execute_result"
    },
    {
     "data": {
      "image/png": "[encoded data removed]",
      "text/plain": [
       "<Figure size 432x288 with 1 Axes>"
      ]
     },
     "metadata": {
      "needs_background": "light"
     },
     "output_type": "display_data"
    }
   ],
   "source": [
    "sns.countplot(y='Daerah',data=pa) #Countplot"
   ]
  },
  {
   "cell_type": "markdown",
   "metadata": {},
   "source": [
    "# Distribusi Pahlawan Berdasarkan Daerah"
   ]
  },
  {
   "cell_type": "code",
   "execution_count": 36,
   "metadata": {},
   "outputs": [
    {
     "data": {
      "text/html": [
       "<div>\n",
       "<style scoped>\n",
       "    .dataframe tbody tr th:only-of-type {\n",
       "        vertical-align: middle;\n",
       "    }\n",
       "\n",
       "    .dataframe tbody tr th {\n",
       "        vertical-align: top;\n",
       "    }\n",
       "\n",
       "    .dataframe thead th {\n",
       "        text-align: right;\n",
       "    }\n",
       "</style>\n",
       "<table border=\"1\" class=\"dataframe\">\n",
       "  <thead>\n",
       "    <tr style=\"text-align: right;\">\n",
       "      <th>Presiden</th>\n",
       "      <th>Gus Dur</th>\n",
       "      <th>Habibie</th>\n",
       "      <th>Jokowi</th>\n",
       "      <th>Megawati</th>\n",
       "      <th>SBY</th>\n",
       "      <th>Soeharto</th>\n",
       "      <th>Soekarno</th>\n",
       "    </tr>\n",
       "    <tr>\n",
       "      <th>Daerah</th>\n",
       "      <th></th>\n",
       "      <th></th>\n",
       "      <th></th>\n",
       "      <th></th>\n",
       "      <th></th>\n",
       "      <th></th>\n",
       "      <th></th>\n",
       "    </tr>\n",
       "  </thead>\n",
       "  <tbody>\n",
       "    <tr>\n",
       "      <th>Aceh</th>\n",
       "      <td>0</td>\n",
       "      <td>0</td>\n",
       "      <td>1</td>\n",
       "      <td>0</td>\n",
       "      <td>1</td>\n",
       "      <td>4</td>\n",
       "      <td>2</td>\n",
       "    </tr>\n",
       "    <tr>\n",
       "      <th>Bali</th>\n",
       "      <td>0</td>\n",
       "      <td>0</td>\n",
       "      <td>1</td>\n",
       "      <td>0</td>\n",
       "      <td>2</td>\n",
       "      <td>3</td>\n",
       "      <td>0</td>\n",
       "    </tr>\n",
       "    <tr>\n",
       "      <th>Banten</th>\n",
       "      <td>0</td>\n",
       "      <td>0</td>\n",
       "      <td>1</td>\n",
       "      <td>0</td>\n",
       "      <td>1</td>\n",
       "      <td>1</td>\n",
       "      <td>0</td>\n",
       "    </tr>\n",
       "    <tr>\n",
       "      <th>Bengkulu</th>\n",
       "      <td>1</td>\n",
       "      <td>0</td>\n",
       "      <td>0</td>\n",
       "      <td>0</td>\n",
       "      <td>0</td>\n",
       "      <td>0</td>\n",
       "      <td>0</td>\n",
       "    </tr>\n",
       "    <tr>\n",
       "      <th>DIY</th>\n",
       "      <td>0</td>\n",
       "      <td>0</td>\n",
       "      <td>1</td>\n",
       "      <td>0</td>\n",
       "      <td>3</td>\n",
       "      <td>3</td>\n",
       "      <td>5</td>\n",
       "    </tr>\n",
       "    <tr>\n",
       "      <th>Gorontalo</th>\n",
       "      <td>0</td>\n",
       "      <td>0</td>\n",
       "      <td>0</td>\n",
       "      <td>1</td>\n",
       "      <td>0</td>\n",
       "      <td>0</td>\n",
       "      <td>0</td>\n",
       "    </tr>\n",
       "    <tr>\n",
       "      <th>Jakarta</th>\n",
       "      <td>0</td>\n",
       "      <td>0</td>\n",
       "      <td>0</td>\n",
       "      <td>1</td>\n",
       "      <td>0</td>\n",
       "      <td>0</td>\n",
       "      <td>3</td>\n",
       "    </tr>\n",
       "    <tr>\n",
       "      <th>Jambi</th>\n",
       "      <td>0</td>\n",
       "      <td>0</td>\n",
       "      <td>0</td>\n",
       "      <td>0</td>\n",
       "      <td>0</td>\n",
       "      <td>1</td>\n",
       "      <td>0</td>\n",
       "    </tr>\n",
       "    <tr>\n",
       "      <th>Jawa Barat</th>\n",
       "      <td>0</td>\n",
       "      <td>0</td>\n",
       "      <td>0</td>\n",
       "      <td>3</td>\n",
       "      <td>3</td>\n",
       "      <td>2</td>\n",
       "      <td>4</td>\n",
       "    </tr>\n",
       "    <tr>\n",
       "      <th>Jawa Tengah</th>\n",
       "      <td>0</td>\n",
       "      <td>0</td>\n",
       "      <td>2</td>\n",
       "      <td>2</td>\n",
       "      <td>4</td>\n",
       "      <td>11</td>\n",
       "      <td>17</td>\n",
       "    </tr>\n",
       "    <tr>\n",
       "      <th>Jawa Timur</th>\n",
       "      <td>0</td>\n",
       "      <td>0</td>\n",
       "      <td>5</td>\n",
       "      <td>0</td>\n",
       "      <td>4</td>\n",
       "      <td>7</td>\n",
       "      <td>8</td>\n",
       "    </tr>\n",
       "    <tr>\n",
       "      <th>Jawa Tmur</th>\n",
       "      <td>0</td>\n",
       "      <td>0</td>\n",
       "      <td>0</td>\n",
       "      <td>0</td>\n",
       "      <td>1</td>\n",
       "      <td>0</td>\n",
       "      <td>0</td>\n",
       "    </tr>\n",
       "    <tr>\n",
       "      <th>Jawa tengah</th>\n",
       "      <td>0</td>\n",
       "      <td>0</td>\n",
       "      <td>0</td>\n",
       "      <td>0</td>\n",
       "      <td>1</td>\n",
       "      <td>0</td>\n",
       "      <td>0</td>\n",
       "    </tr>\n",
       "    <tr>\n",
       "      <th>Kalimantan Barat</th>\n",
       "      <td>0</td>\n",
       "      <td>1</td>\n",
       "      <td>0</td>\n",
       "      <td>0</td>\n",
       "      <td>0</td>\n",
       "      <td>0</td>\n",
       "      <td>0</td>\n",
       "    </tr>\n",
       "    <tr>\n",
       "      <th>Kalimantan Selatan</th>\n",
       "      <td>1</td>\n",
       "      <td>0</td>\n",
       "      <td>1</td>\n",
       "      <td>0</td>\n",
       "      <td>1</td>\n",
       "      <td>1</td>\n",
       "      <td>0</td>\n",
       "    </tr>\n",
       "    <tr>\n",
       "      <th>Kalimantan Tengah</th>\n",
       "      <td>0</td>\n",
       "      <td>0</td>\n",
       "      <td>0</td>\n",
       "      <td>0</td>\n",
       "      <td>0</td>\n",
       "      <td>1</td>\n",
       "      <td>0</td>\n",
       "    </tr>\n",
       "    <tr>\n",
       "      <th>Maluku</th>\n",
       "      <td>0</td>\n",
       "      <td>0</td>\n",
       "      <td>0</td>\n",
       "      <td>0</td>\n",
       "      <td>1</td>\n",
       "      <td>2</td>\n",
       "      <td>1</td>\n",
       "    </tr>\n",
       "    <tr>\n",
       "      <th>Maluku Utara</th>\n",
       "      <td>0</td>\n",
       "      <td>0</td>\n",
       "      <td>0</td>\n",
       "      <td>0</td>\n",
       "      <td>0</td>\n",
       "      <td>1</td>\n",
       "      <td>0</td>\n",
       "    </tr>\n",
       "    <tr>\n",
       "      <th>NTB</th>\n",
       "      <td>0</td>\n",
       "      <td>0</td>\n",
       "      <td>1</td>\n",
       "      <td>0</td>\n",
       "      <td>0</td>\n",
       "      <td>0</td>\n",
       "      <td>0</td>\n",
       "    </tr>\n",
       "    <tr>\n",
       "      <th>NTT</th>\n",
       "      <td>0</td>\n",
       "      <td>0</td>\n",
       "      <td>1</td>\n",
       "      <td>0</td>\n",
       "      <td>2</td>\n",
       "      <td>1</td>\n",
       "      <td>0</td>\n",
       "    </tr>\n",
       "    <tr>\n",
       "      <th>Papua</th>\n",
       "      <td>0</td>\n",
       "      <td>0</td>\n",
       "      <td>0</td>\n",
       "      <td>0</td>\n",
       "      <td>1</td>\n",
       "      <td>3</td>\n",
       "      <td>0</td>\n",
       "    </tr>\n",
       "    <tr>\n",
       "      <th>Riau</th>\n",
       "      <td>0</td>\n",
       "      <td>0</td>\n",
       "      <td>1</td>\n",
       "      <td>1</td>\n",
       "      <td>0</td>\n",
       "      <td>3</td>\n",
       "      <td>0</td>\n",
       "    </tr>\n",
       "    <tr>\n",
       "      <th>Sulawesi Barat</th>\n",
       "      <td>0</td>\n",
       "      <td>0</td>\n",
       "      <td>1</td>\n",
       "      <td>0</td>\n",
       "      <td>0</td>\n",
       "      <td>0</td>\n",
       "      <td>0</td>\n",
       "    </tr>\n",
       "    <tr>\n",
       "      <th>Sulawesi Selatan</th>\n",
       "      <td>1</td>\n",
       "      <td>0</td>\n",
       "      <td>0</td>\n",
       "      <td>3</td>\n",
       "      <td>4</td>\n",
       "      <td>3</td>\n",
       "      <td>0</td>\n",
       "    </tr>\n",
       "    <tr>\n",
       "      <th>Sulawesi Tenggara</th>\n",
       "      <td>0</td>\n",
       "      <td>0</td>\n",
       "      <td>2</td>\n",
       "      <td>0</td>\n",
       "      <td>0</td>\n",
       "      <td>0</td>\n",
       "      <td>0</td>\n",
       "    </tr>\n",
       "    <tr>\n",
       "      <th>Sulawesi Utara</th>\n",
       "      <td>0</td>\n",
       "      <td>0</td>\n",
       "      <td>2</td>\n",
       "      <td>0</td>\n",
       "      <td>1</td>\n",
       "      <td>3</td>\n",
       "      <td>1</td>\n",
       "    </tr>\n",
       "    <tr>\n",
       "      <th>Sulawesi utara</th>\n",
       "      <td>0</td>\n",
       "      <td>0</td>\n",
       "      <td>0</td>\n",
       "      <td>0</td>\n",
       "      <td>1</td>\n",
       "      <td>0</td>\n",
       "      <td>0</td>\n",
       "    </tr>\n",
       "    <tr>\n",
       "      <th>Sumatera Barat</th>\n",
       "      <td>0</td>\n",
       "      <td>2</td>\n",
       "      <td>1</td>\n",
       "      <td>0</td>\n",
       "      <td>5</td>\n",
       "      <td>3</td>\n",
       "      <td>4</td>\n",
       "    </tr>\n",
       "    <tr>\n",
       "      <th>Sumatera Selatan</th>\n",
       "      <td>0</td>\n",
       "      <td>0</td>\n",
       "      <td>0</td>\n",
       "      <td>0</td>\n",
       "      <td>0</td>\n",
       "      <td>2</td>\n",
       "      <td>0</td>\n",
       "    </tr>\n",
       "    <tr>\n",
       "      <th>Sumatera Utara</th>\n",
       "      <td>0</td>\n",
       "      <td>0</td>\n",
       "      <td>1</td>\n",
       "      <td>1</td>\n",
       "      <td>2</td>\n",
       "      <td>2</td>\n",
       "      <td>4</td>\n",
       "    </tr>\n",
       "    <tr>\n",
       "      <th>Sumatera utara</th>\n",
       "      <td>0</td>\n",
       "      <td>0</td>\n",
       "      <td>0</td>\n",
       "      <td>0</td>\n",
       "      <td>1</td>\n",
       "      <td>0</td>\n",
       "      <td>0</td>\n",
       "    </tr>\n",
       "  </tbody>\n",
       "</table>\n",
       "</div>"
      ],
      "text/plain": [
       "Presiden            Gus Dur  Habibie  Jokowi  Megawati  SBY  Soeharto  \\\n",
       "Daerah                                                                  \n",
       "Aceh                      0        0       1         0    1         4   \n",
       "Bali                      0        0       1         0    2         3   \n",
       "Banten                    0        0       1         0    1         1   \n",
       "Bengkulu                  1        0       0         0    0         0   \n",
       "DIY                       0        0       1         0    3         3   \n",
       "Gorontalo                 0        0       0         1    0         0   \n",
       "Jakarta                   0        0       0         1    0         0   \n",
       "Jambi                     0        0       0         0    0         1   \n",
       "Jawa Barat                0        0       0         3    3         2   \n",
       "Jawa Tengah               0        0       2         2    4        11   \n",
       "Jawa Timur                0        0       5         0    4         7   \n",
       "Jawa Tmur                 0        0       0         0    1         0   \n",
       "Jawa tengah               0        0       0         0    1         0   \n",
       "Kalimantan Barat          0        1       0         0    0         0   \n",
       "Kalimantan Selatan        1        0       1         0    1         1   \n",
       "Kalimantan Tengah         0        0       0         0    0         1   \n",
       "Maluku                    0        0       0         0    1         2   \n",
       "Maluku Utara              0        0       0         0    0         1   \n",
       "NTB                       0        0       1         0    0         0   \n",
       "NTT                       0        0       1         0    2         1   \n",
       "Papua                     0        0       0         0    1         3   \n",
       "Riau                      0        0       1         1    0         3   \n",
       "Sulawesi Barat            0        0       1         0    0         0   \n",
       "Sulawesi Selatan          1        0       0         3    4         3   \n",
       "Sulawesi Tenggara         0        0       2         0    0         0   \n",
       "Sulawesi Utara            0        0       2         0    1         3   \n",
       "Sulawesi utara            0        0       0         0    1         0   \n",
       "Sumatera Barat            0        2       1         0    5         3   \n",
       "Sumatera Selatan          0        0       0         0    0         2   \n",
       "Sumatera Utara            0        0       1         1    2         2   \n",
       "Sumatera utara            0        0       0         0    1         0   \n",
       "\n",
       "Presiden            Soekarno  \n",
       "Daerah                        \n",
       "Aceh                       2  \n",
       "Bali                       0  \n",
       "Banten                     0  \n",
       "Bengkulu                   0  \n",
       "DIY                        5  \n",
       "Gorontalo                  0  \n",
       "Jakarta                    3  \n",
       "Jambi                      0  \n",
       "Jawa Barat                 4  \n",
       "Jawa Tengah               17  \n",
       "Jawa Timur                 8  \n",
       "Jawa Tmur                  0  \n",
       "Jawa tengah                0  \n",
       "Kalimantan Barat           0  \n",
       "Kalimantan Selatan         0  \n",
       "Kalimantan Tengah          0  \n",
       "Maluku                     1  \n",
       "Maluku Utara               0  \n",
       "NTB                        0  \n",
       "NTT                        0  \n",
       "Papua                      0  \n",
       "Riau                       0  \n",
       "Sulawesi Barat             0  \n",
       "Sulawesi Selatan           0  \n",
       "Sulawesi Tenggara          0  \n",
       "Sulawesi Utara             1  \n",
       "Sulawesi utara             0  \n",
       "Sumatera Barat             4  \n",
       "Sumatera Selatan           0  \n",
       "Sumatera Utara             4  \n",
       "Sumatera utara             0  "
      ]
     },
     "execution_count": 36,
     "metadata": {},
     "output_type": "execute_result"
    }
   ],
   "source": [
    "Pahlawan_daerah = pd.crosstab(pa['Daerah'], pa['Presiden'])\n",
    "Pahlawan_daerah"
   ]
  },
  {
   "cell_type": "code",
   "execution_count": null,
   "metadata": {},
   "outputs": [],
   "source": []
  }
 ],
 "metadata": {
  "kernelspec": {
   "display_name": "Python 3",
   "language": "python",
   "name": "python3"
  },
  "language_info": {
   "codemirror_mode": {
    "name": "ipython",
    "version": 3
   },
   "file_extension": ".py",
   "mimetype": "text/x-python",
   "name": "python",
   "nbconvert_exporter": "python",
   "pygments_lexer": "ipython3",
   "version": "3.7.6"
  }
 },
 "nbformat": 4,
 "nbformat_minor": 4
}
